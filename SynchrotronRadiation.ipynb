{
 "cells": [
  {
   "cell_type": "markdown",
   "metadata": {},
   "source": [
    "# Synchrotron Radiation\n",
    "This Notebook contains 4 excercises for a total of 12 marks. Please submit on Ulwazi."
   ]
  },
  {
   "cell_type": "markdown",
   "metadata": {},
   "source": [
    "## Pre-Requisites\n",
    "As usual, we start with importing the necessary modules."
   ]
  },
  {
   "cell_type": "code",
   "execution_count": 1,
   "metadata": {},
   "outputs": [],
   "source": [
    "from astropy import units as u\n",
    "from astropy import constants as c\n",
    "\n",
    "from astropy.modeling.powerlaws import PowerLaw1D\n",
    "\n",
    "import numpy as np\n",
    "\n",
    "import matplotlib.pyplot as plt\n",
    "\n",
    "from math import pi\n",
    "from numpy import sqrt, cos, sin, tan, abs"
   ]
  },
  {
   "cell_type": "markdown",
   "metadata": {},
   "source": [
    "## Synchrotron Frequency\n",
    "\n",
    "The synchrotron frequency is (see slide 40)\n",
    "$$\\nu_\\mathrm{sync} = \\frac{1}{2\\pi} \\left( \\frac{U}{m c^2} \\right)^2 \\frac{qB}{m} \\sin \\phi$$\n",
    "We are interested in electrons only, so we can keep the charge and mass fixed. Here is a function to do the calculation:"
   ]
  },
  {
   "cell_type": "code",
   "execution_count": null,
   "metadata": {},
   "outputs": [],
   "source": [
    "def nu_sync (U, B, phi = 90*u.degree) : \n",
    "    \n",
    "    ret = U**2 * c.e.si * B * sin(phi) / 2 / pi / c.m_e**3 / c.c**4\n",
    "    \n",
    "    return ret.decompose().to(u.Hz)"
   ]
  },
  {
   "cell_type": "markdown",
   "metadata": {},
   "source": [
    "The lecture example takes an assumed magnetic field in the Crab Nebula of $B = 5 \\times 10^{-8}\\,\\mathrm{T}$.\n",
    "We have seen that there are electrons with an energy of $U = 21\\,\\mathrm{TeV}$. The synchrotron frequency is"
   ]
  },
  {
   "cell_type": "code",
   "execution_count": null,
   "metadata": {},
   "outputs": [],
   "source": [
    "nu = nu_sync(21*u.TeV, 5e-8*u.T)"
   ]
  },
  {
   "cell_type": "code",
   "execution_count": null,
   "metadata": {},
   "outputs": [],
   "source": [
    "nu"
   ]
  },
  {
   "cell_type": "markdown",
   "metadata": {},
   "source": [
    "And the photon energy is"
   ]
  },
  {
   "cell_type": "code",
   "execution_count": null,
   "metadata": {},
   "outputs": [],
   "source": [
    "E = nu*c.h"
   ]
  },
  {
   "cell_type": "code",
   "execution_count": null,
   "metadata": {},
   "outputs": [],
   "source": [
    "E.to(u.keV)"
   ]
  },
  {
   "cell_type": "markdown",
   "metadata": {},
   "source": [
    "### Exercise\n",
    "In order to fill the table on the tutorial sheet you need a function to calculate the electron energy $U$ in eV from the synchrotron frequency. Write a function to do this calculation.\n",
    "\n",
    "**[3 marks]**"
   ]
  },
  {
   "cell_type": "code",
   "execution_count": null,
   "metadata": {},
   "outputs": [],
   "source": [
    "def Eelectron_sync (nu, B, phi = 90*u.degree) :\n",
    "    \n",
    "    # fill in your code here\n",
    "    E = 0*u.eV\n",
    "    \n",
    "    return E.to(u.eV)"
   ]
  },
  {
   "cell_type": "markdown",
   "metadata": {},
   "source": [
    "Now we test the function."
   ]
  },
  {
   "cell_type": "code",
   "execution_count": null,
   "metadata": {},
   "outputs": [],
   "source": [
    "Eelectron_sync(9.8*u.keV/c.h, B)"
   ]
  },
  {
   "cell_type": "markdown",
   "metadata": {},
   "source": [
    "## Power Spectrum\n",
    "We want to write a function to calculate the power spectrum of the synchrotron radiation of a mono-energetic electron. The equation (see slide 43) is\n",
    "$$ P(\\omega) = \\frac{\\sqrt{3}}{8 \\pi^2} \\frac{q^3 B \\sin \\phi}{\\epsilon_0 c m} F\\left( \\frac{\\omega}{\\omega_c} \\right)$$\n",
    "with\n",
    "$$ F(x) = x \\int_x^\\infty K_{5/3} (z) dz $$\n",
    "and $K_{5/3} (z)$ being a modified Bessel function of the 2nd kind."
   ]
  },
  {
   "cell_type": "markdown",
   "metadata": {},
   "source": [
    "In order write a function for the entire power spectrum of an electron we will need some more modules:"
   ]
  },
  {
   "cell_type": "code",
   "execution_count": null,
   "metadata": {},
   "outputs": [],
   "source": [
    "import scipy.integrate as integrate\n",
    "import scipy.special as special"
   ]
  },
  {
   "cell_type": "markdown",
   "metadata": {},
   "source": [
    "The function $F(x)$ can be programmed as follows. (see https://docs.scipy.org/doc/scipy/reference/tutorial/integrate.html)"
   ]
  },
  {
   "cell_type": "code",
   "execution_count": null,
   "metadata": {},
   "outputs": [],
   "source": [
    "def F(x) :\n",
    "    ## https://docs.scipy.org/doc/scipy/reference/tutorial/integrate.html\n",
    "    \n",
    "    #K53 = special.kv(5./3, x)\n",
    "    result = x*integrate.quad(lambda z: special.kv(5./3,z), x, np.inf)[0]\n",
    "    \n",
    "    return result"
   ]
  },
  {
   "cell_type": "markdown",
   "metadata": {},
   "source": [
    "But we need something that will work on a vector of x values:"
   ]
  },
  {
   "cell_type": "code",
   "execution_count": null,
   "metadata": {},
   "outputs": [],
   "source": [
    "def F_vec(x_vec) :\n",
    "    \n",
    "    integrateArray = []\n",
    "    \n",
    "    for x in x_vec :\n",
    "        integrate = F(x)\n",
    "        integrateArray.append(integrate)\n",
    "    \n",
    "    return integrateArray    "
   ]
  },
  {
   "cell_type": "markdown",
   "metadata": {},
   "source": [
    "Here is a function to calculate the power radiated by an electron with energy $E$ in a magnetic field $B$ with a pitch angle $\\phi$. nu can be a single frequency or an array of frequencies. Everything else must be a scalar."
   ]
  },
  {
   "cell_type": "code",
   "execution_count": null,
   "metadata": {},
   "outputs": [],
   "source": [
    "def Psync(nu, E, B, phi = 90*u.degree) : \n",
    "\n",
    "    nu_over_nus = nu / nu_sync (E, B, phi)\n",
    "    \n",
    "    nu_over_nus = nu_over_nus.decompose().value\n",
    "    \n",
    "    if type(nu_over_nus) is np.ndarray :\n",
    "        print('array mode')\n",
    "        ret = np.array(F_vec(nu_over_nus))*u.one\n",
    "    else :\n",
    "        print('single mode')\n",
    "        ret = F(nu_over_nus)*u.one\n",
    "\n",
    "\n",
    "    ret *= sqrt(3)/8/pi**2 \n",
    "    \n",
    "    ret *= c.e.si**3 * B * sin(phi) / c.m_e / c.c / c.eps0.si\n",
    "\n",
    "\n",
    "    return ret.to(u.W/u.Hz)\n"
   ]
  },
  {
   "cell_type": "markdown",
   "metadata": {},
   "source": [
    "Let's calulcate the power for a range of frequencies. Let's use an electron energy of $U = 19\\,\\mathrm{TeV}$ and $B = 5\\times10^{-8}\\,\\mathrm{T}$. "
   ]
  },
  {
   "cell_type": "code",
   "execution_count": null,
   "metadata": {},
   "outputs": [],
   "source": [
    "U = 19*u.TeV\n",
    "B = 5e-8*u.T"
   ]
  },
  {
   "cell_type": "code",
   "execution_count": null,
   "metadata": {},
   "outputs": [],
   "source": [
    "frequencies = np.logspace(13, 19, 601) * u.Hz"
   ]
  },
  {
   "cell_type": "code",
   "execution_count": null,
   "metadata": {},
   "outputs": [],
   "source": [
    "P = Psync(frequencies, U, B)"
   ]
  },
  {
   "cell_type": "code",
   "execution_count": null,
   "metadata": {},
   "outputs": [],
   "source": [
    "P"
   ]
  },
  {
   "cell_type": "markdown",
   "metadata": {},
   "source": [
    "Let's make a plot of it:"
   ]
  },
  {
   "cell_type": "code",
   "execution_count": null,
   "metadata": {},
   "outputs": [],
   "source": [
    "plt.plot(frequencies, P)\n",
    "\n",
    "plt.xscale('log')\n",
    "\n",
    "plt.xlabel('frequency [{}]'.format(frequencies.unit))\n",
    "plt.ylabel('P [{}]'.format(P.unit))"
   ]
  },
  {
   "cell_type": "markdown",
   "metadata": {},
   "source": [
    "### Exercise\n",
    "Make plots similar to the plots on slide 24 of the lecture on Synchrotron Radiation O. Use 0.1, 1 and 10 TeV for the electron energy and a magnetic field of $B = 10^{-8}\\,\\mathrm{T}$ for the first plot, and an electron energy of $U = 10\\,\\mathrm{TeV}$ and magnetic fields of $10^{-10}\\,\\mathrm{T}$,$10^{-9}\\,\\mathrm{T}$, and $10^{-8}\\,\\mathrm{T}$.\n",
    "\n",
    "**[3 marks]**"
   ]
  },
  {
   "cell_type": "code",
   "execution_count": null,
   "metadata": {},
   "outputs": [],
   "source": [
    "# for plot 1\n",
    "U_1 = [0.1, 1, 10] *u.TeV\n",
    "B_1 = 1e-8 * u.T\n",
    "\n",
    "# fill in your code here"
   ]
  },
  {
   "cell_type": "code",
   "execution_count": null,
   "metadata": {},
   "outputs": [],
   "source": [
    "# for plot 2\n",
    "U_2 = 10 *u.TeV\n",
    "B_2 = [1e-10, 1e-9, 1e-8] * u.T\n",
    "\n",
    "# fill in your code here"
   ]
  },
  {
   "cell_type": "markdown",
   "metadata": {},
   "source": [
    "## Emitted Power in the Relativistic Case "
   ]
  },
  {
   "cell_type": "markdown",
   "metadata": {},
   "source": [
    "We will use the equation from slide 8 of the lecture Synchrotron Radiation II. Electron energy and magnetic field are as above:"
   ]
  },
  {
   "cell_type": "code",
   "execution_count": null,
   "metadata": {},
   "outputs": [],
   "source": [
    "U"
   ]
  },
  {
   "cell_type": "code",
   "execution_count": null,
   "metadata": {},
   "outputs": [],
   "source": [
    "B"
   ]
  },
  {
   "cell_type": "markdown",
   "metadata": {},
   "source": [
    "As the electron is highly relativistic we can set $\\beta$ to $1$."
   ]
  },
  {
   "cell_type": "code",
   "execution_count": null,
   "metadata": {},
   "outputs": [],
   "source": [
    "beta = 1"
   ]
  },
  {
   "cell_type": "code",
   "execution_count": null,
   "metadata": {},
   "outputs": [],
   "source": [
    "P = 2./3 * c.eps0.si * c.sigma_T * beta**2 / (c.c * c.m_e**2) * B**2 * U**2"
   ]
  },
  {
   "cell_type": "code",
   "execution_count": null,
   "metadata": {},
   "outputs": [],
   "source": [
    "P.to(u.W)"
   ]
  },
  {
   "cell_type": "markdown",
   "metadata": {},
   "source": [
    "## Synchrotron Cooling Time"
   ]
  },
  {
   "cell_type": "markdown",
   "metadata": {},
   "source": [
    "The synchrotron cooling time (lecture Synchrotron Radiation II, slide 13) is\n",
    "$$\n",
    "\\tau_\\mathsf{sync} (U) = \\frac{3}{2} \\frac{c m_e^2}{\\varepsilon_0 \\sigma_T \\beta B^2 U}\n",
    "$$\n",
    "where $B$ is the magnetic field and $U$ is the total energy of the electron. We will be dealing only with electrons so we will use the eletron mass for the particle's mass.\n",
    "### Exercise\n",
    "Write a function that calculates the cooling time for a given magnetic field and (an array of) electron energy.\n",
    "\n",
    "**[3 marks]**"
   ]
  },
  {
   "cell_type": "code",
   "execution_count": null,
   "metadata": {},
   "outputs": [],
   "source": [
    "def CoolingTime_Sync (U, B = 5e-8*u.T, beta = 1.) :\n",
    "    \n",
    "    # your code here\n",
    "    tau = U.value * 0 * u.s\n",
    "    \n",
    "    return tau.to(u.s)"
   ]
  },
  {
   "cell_type": "markdown",
   "metadata": {},
   "source": [
    "Let's test the function for an array of four electron energies:"
   ]
  },
  {
   "cell_type": "code",
   "execution_count": null,
   "metadata": {},
   "outputs": [],
   "source": [
    "U = [1e-1, 1, 10] * u.TeV\n",
    "CoolingTime_Sync (U)"
   ]
  },
  {
   "cell_type": "markdown",
   "metadata": {},
   "source": [
    "### Exercise\n",
    "Make a plot of the cooling time vs. electron energy for electron energies between 1 MeV and 100 TeV.\n",
    "\n",
    "**[3 marks]**"
   ]
  },
  {
   "cell_type": "code",
   "execution_count": null,
   "metadata": {},
   "outputs": [],
   "source": [
    "# your code here"
   ]
  },
  {
   "cell_type": "markdown",
   "metadata": {},
   "source": [
    "Expected Output:"
   ]
  },
  {
   "cell_type": "markdown",
   "metadata": {},
   "source": [
    "## Synchrotron Radiation from an Electron Population\n",
    "So far we have dealt with mono-energetic electrons. We usually observe electrons of many different energies, often they follow a power law. Let's define our power law as in the Introduction."
   ]
  },
  {
   "cell_type": "code",
   "execution_count": null,
   "metadata": {},
   "outputs": [],
   "source": [
    "E_0 = 1 * u.TeV\n",
    "A = 10 / u.TeV\n",
    "Gamma = 2.5"
   ]
  },
  {
   "cell_type": "code",
   "execution_count": null,
   "metadata": {},
   "outputs": [],
   "source": [
    "PL = PowerLaw1D(A, E_0, Gamma)"
   ]
  },
  {
   "cell_type": "markdown",
   "metadata": {},
   "source": [
    "We define a range of photon frequencies:"
   ]
  },
  {
   "cell_type": "code",
   "execution_count": null,
   "metadata": {},
   "outputs": [],
   "source": [
    "frequencies = np.logspace(13, 19, 601) * u.Hz"
   ]
  },
  {
   "cell_type": "markdown",
   "metadata": {},
   "source": [
    "And we use our magnetic field of $B = 10^{-8}\\,\\mathsf{T}$:"
   ]
  },
  {
   "cell_type": "code",
   "execution_count": null,
   "metadata": {},
   "outputs": [],
   "source": [
    "B = 1e-8 * u.T"
   ]
  },
  {
   "cell_type": "markdown",
   "metadata": {},
   "source": [
    "Let's get the synchrotron spectra for electron energies of 100 GeV, 1 TeV and 10 TeV: "
   ]
  },
  {
   "cell_type": "code",
   "execution_count": null,
   "metadata": {},
   "outputs": [],
   "source": [
    "spec_100GeV = Psync(frequencies, 100*u.GeV, B)\n",
    "spec_1TeV = Psync(frequencies, 1*u.TeV, B)\n",
    "spec_10TeV = Psync(frequencies, 10*u.TeV, B)"
   ]
  },
  {
   "cell_type": "markdown",
   "metadata": {},
   "source": [
    "But we have more electrons at 1 GeV then at 10 GeV. How many electrons? This comes from the power law defined above. We have to multiply the spectrum with the number of electrons:"
   ]
  },
  {
   "cell_type": "code",
   "execution_count": null,
   "metadata": {},
   "outputs": [],
   "source": [
    "spec_100GeV *= PL(100*u.GeV)\n",
    "spec_1TeV *= PL(1*u.TeV)\n",
    "spec_10TeV *= PL(10*u.TeV)"
   ]
  },
  {
   "cell_type": "markdown",
   "metadata": {},
   "source": [
    "We have to sum these spectra to get the total emission:"
   ]
  },
  {
   "cell_type": "code",
   "execution_count": null,
   "metadata": {},
   "outputs": [],
   "source": [
    "spec_sum = spec_100GeV.copy()\n",
    "\n",
    "spec_sum += spec_1TeV\n",
    "spec_sum += spec_10TeV"
   ]
  },
  {
   "cell_type": "code",
   "execution_count": null,
   "metadata": {},
   "outputs": [],
   "source": [
    "plt.loglog(frequencies, spec_sum, label = \"total emission\", linewidth = 4)\n",
    "\n",
    "plt.loglog(frequencies, spec_100GeV, label = \"100 GeV\")\n",
    "plt.loglog(frequencies, spec_1TeV, label = \"1 TeV\")\n",
    "plt.loglog(frequencies, spec_10TeV, label = \"10 TeV\")\n",
    "\n",
    "plt.legend()\n",
    "\n",
    "#p we need to limit the y range a bit:\n",
    "plt.ylim(1e-40,1e-30)\n",
    "\n",
    "plt.xlabel('frequency [{}]'.format(frequencies.unit))\n",
    "plt.ylabel('P [{}]'.format(spec_sum.unit))"
   ]
  },
  {
   "cell_type": "markdown",
   "metadata": {},
   "source": [
    "### Exercise\n",
    "Keep the electron energy range from 100 GeV to 10 TeV. Make the same plot as above but for many more intermediate energies. Create an array of electron energies and loop over it. You should have enough intermediate energies that the total emission is almost a power law.\n",
    "\n",
    "Take the part of the spectrum following clearly a power law. Find out the spectral index. You can do that by taking two values and doing the calculation on a sheet of paper. You can also do a least-square fit of the total emission.\n",
    "\n",
    "**[3 marks]**"
   ]
  },
  {
   "cell_type": "code",
   "execution_count": null,
   "metadata": {},
   "outputs": [],
   "source": [
    "# Here is an empty spectrum to be filled in\n",
    "\n",
    "spec_sum = np.zeros(len(frequencies)) * u.W / (u.Hz * u.TeV)"
   ]
  },
  {
   "cell_type": "code",
   "execution_count": null,
   "metadata": {},
   "outputs": [],
   "source": [
    "# your code here"
   ]
  },
  {
   "cell_type": "markdown",
   "metadata": {},
   "source": [
    "Expected output:"
   ]
  },
  {
   "cell_type": "markdown",
   "metadata": {},
   "source": [
    "## Submission\n",
    "\n",
    "Before you submit your work you should make a few checks that everything works fine.\n",
    "\n",
    "1. Save your notebook as a PDF (File->Download As->PDF). This document will help you debugging in the next step.\n",
    "1. If PDF export does not work: You can do File->Print Preview and then print to a file.\n",
    "1. Restart the kernel and rerun the entire notebook (Kernel->Restart & Run All). This will delete all variables (but not your code) and rerun the notebook in one go. If this does not go through the endthen you have to fix it. You will see at which cell the run stopped. A common mistake is using a variable that is defined only at a later stage.\n",
    "1. You think you fixed everything? Redo step 2 (Kernel->Restart & Run All)\n",
    "\n",
    "You have to download and submit 2 files, the jupyter notebook and a pdf.\n",
    "- Jupyter notebook. File->Download As->Notebook (.ipynb). Save this file on your disk.\n",
    "- PDF file. File->Download As->PDF. Save this file on your disk.\n",
    "- If PDF export does not work. You can do File->Print Preview and then print to a file.\n",
    "\n",
    "Please submit the two files on Ulwazi."
   ]
  },
  {
   "cell_type": "code",
   "execution_count": null,
   "metadata": {},
   "outputs": [],
   "source": []
  }
 ],
 "metadata": {
  "kernelspec": {
   "display_name": "Python 3",
   "language": "python",
   "name": "python3"
  },
  "language_info": {
   "codemirror_mode": {
    "name": "ipython",
    "version": 3
   },
   "file_extension": ".py",
   "mimetype": "text/x-python",
   "name": "python",
   "nbconvert_exporter": "python",
   "pygments_lexer": "ipython3",
   "version": "3.7.0"
  }
 },
 "nbformat": 4,
 "nbformat_minor": 4
}
