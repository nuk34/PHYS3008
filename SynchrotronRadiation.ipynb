{
 "cells": [
  {
   "cell_type": "markdown",
   "metadata": {},
   "source": [
    "# Synchrotron Radiation\n",
    "This Notebook contains 4 excercises for a total of 12 marks. Please submit on Ulwazi."
   ]
  },
  {
   "cell_type": "markdown",
   "metadata": {},
   "source": [
    "## Pre-Requisites\n",
    "As usual, we start with importing the necessary modules."
   ]
  },
  {
   "cell_type": "code",
   "execution_count": 1,
   "metadata": {},
   "outputs": [],
   "source": [
    "from astropy import units as u\n",
    "from astropy import constants as c\n",
    "\n",
    "from astropy.modeling.powerlaws import PowerLaw1D\n",
    "\n",
    "import numpy as np\n",
    "\n",
    "import matplotlib.pyplot as plt\n",
    "\n",
    "from math import pi\n",
    "from numpy import sqrt, cos, sin, tan, abs"
   ]
  },
  {
   "cell_type": "markdown",
   "metadata": {},
   "source": [
    "## Relativistic Gyro-Frequency"
   ]
  },
  {
   "cell_type": "markdown",
   "metadata": {},
   "source": [
    "Let's declare a function to calculate the gyro-frequency, as on the lecture slides on page 27. It takes as parameters the magnetic field B, the Lorentz factor $\\gamma$, the charge q in elementary charges with -1 as default and the mass of the particle with the electron mass as default."
   ]
  },
  {
   "cell_type": "code",
   "execution_count": 2,
   "metadata": {},
   "outputs": [],
   "source": [
    "def omega_r(B, gamma, q = -1, m = c.m_e) :\n",
    "    \n",
    "    # convert q into charge\n",
    "    q *= c.e.si\n",
    "    \n",
    "    # we only need the magnitude of the charge:\n",
    "    q = abs(q)\n",
    "    \n",
    "    # equation as on the lecture slides\n",
    "    omega_r = q*B/(gamma*m)\n",
    "    \n",
    "    # return omega_r in units of Hz\n",
    "    return omega_r.to(u.Hz)"
   ]
  },
  {
   "cell_type": "markdown",
   "metadata": {},
   "source": [
    "This function takes the Lorentz factor $\\gamma$ as parameter. But often we have the total energy of a particle, we can calculate the Lorentz factor with\n",
    "$$ \\gamma = \\frac{E_\\mathrm{tot}}{m c^2} .$$\n",
    "Let's write another function for that. It will take the (total) energy of the particle and the particle mass as parameter. The mass defaults to the electron mass."
   ]
  },
  {
   "cell_type": "code",
   "execution_count": 3,
   "metadata": {},
   "outputs": [],
   "source": [
    "def gamma_fromEtot (E, m = c.m_e) :\n",
    "    \n",
    "    gamma = E/(m*c.c**2)\n",
    "    \n",
    "    # gamma is dimensionless, let's decompose before returning\n",
    "    return gamma.decompose()"
   ]
  },
  {
   "cell_type": "markdown",
   "metadata": {},
   "source": [
    "The lecture example is for an electron with kinetic energy of"
   ]
  },
  {
   "cell_type": "code",
   "execution_count": 4,
   "metadata": {},
   "outputs": [],
   "source": [
    "E_kin = 5e-10 *u.J"
   ]
  },
  {
   "cell_type": "markdown",
   "metadata": {},
   "source": [
    "We need the total energy, which is the sum of the kinetic energy and the rest energy ($mc^2$)."
   ]
  },
  {
   "cell_type": "code",
   "execution_count": 5,
   "metadata": {},
   "outputs": [],
   "source": [
    "E_tot = E_kin + c.m_e*c.c**2"
   ]
  },
  {
   "cell_type": "code",
   "execution_count": 6,
   "metadata": {},
   "outputs": [
    {
     "data": {
      "text/latex": [
       "$5.0008187 \\times 10^{-10} \\; \\mathrm{J}$"
      ],
      "text/plain": [
       "<Quantity 5.00081871e-10 J>"
      ]
     },
     "execution_count": 6,
     "metadata": {},
     "output_type": "execute_result"
    }
   ],
   "source": [
    "E_tot"
   ]
  },
  {
   "cell_type": "markdown",
   "metadata": {},
   "source": [
    "You see that at these energies the rest energy of the electron is negligible.\n",
    "\n",
    "Let's calculate the Lorentz factor:"
   ]
  },
  {
   "cell_type": "code",
   "execution_count": 7,
   "metadata": {},
   "outputs": [
    {
     "data": {
      "text/latex": [
       "$6108.1643 \\; \\mathrm{}$"
      ],
      "text/plain": [
       "<Quantity 6108.16428528>"
      ]
     },
     "execution_count": 7,
     "metadata": {},
     "output_type": "execute_result"
    }
   ],
   "source": [
    "gamma_fromEtot(E_tot)"
   ]
  },
  {
   "cell_type": "markdown",
   "metadata": {},
   "source": [
    "The magnetic field is still"
   ]
  },
  {
   "cell_type": "code",
   "execution_count": 8,
   "metadata": {},
   "outputs": [],
   "source": [
    "B = 40 * u.microTesla"
   ]
  },
  {
   "cell_type": "markdown",
   "metadata": {},
   "source": [
    "The gyro-frequency is"
   ]
  },
  {
   "cell_type": "code",
   "execution_count": 9,
   "metadata": {},
   "outputs": [],
   "source": [
    "omega = omega_r(B, gamma_fromEtot(E_tot))"
   ]
  },
  {
   "cell_type": "code",
   "execution_count": 10,
   "metadata": {},
   "outputs": [
    {
     "data": {
      "text/latex": [
       "$1151.783 \\; \\mathrm{Hz}$"
      ],
      "text/plain": [
       "<Quantity 1151.78304225 Hz>"
      ]
     },
     "execution_count": 10,
     "metadata": {},
     "output_type": "execute_result"
    }
   ],
   "source": [
    "omega"
   ]
  },
  {
   "cell_type": "markdown",
   "metadata": {},
   "source": [
    "The number of cycles is"
   ]
  },
  {
   "cell_type": "code",
   "execution_count": 11,
   "metadata": {},
   "outputs": [
    {
     "data": {
      "text/latex": [
       "$183.31196 \\; \\mathrm{Hz}$"
      ],
      "text/plain": [
       "<Quantity 183.31196454 Hz>"
      ]
     },
     "execution_count": 11,
     "metadata": {},
     "output_type": "execute_result"
    }
   ],
   "source": [
    "omega / (2*pi)"
   ]
  },
  {
   "cell_type": "markdown",
   "metadata": {},
   "source": [
    "We can plot $\\omega_r$ depending on the Lorentz factor."
   ]
  },
  {
   "cell_type": "code",
   "execution_count": 12,
   "metadata": {},
   "outputs": [
    {
     "data": {
      "text/plain": [
       "Text(0, 0.5, '$\\\\omega _r$ [Hz]')"
      ]
     },
     "execution_count": 12,
     "metadata": {},
     "output_type": "execute_result"
    },
    {
     "data": {
      "image/png": "[encoded data removed]",
      "text/plain": [
       "<Figure size 432x288 with 1 Axes>"
      ]
     },
     "metadata": {
      "needs_background": "light"
     },
     "output_type": "display_data"
    }
   ],
   "source": [
    "gammas = np.logspace(0,4,41)\n",
    "\n",
    "omegas = omega_r(B, gammas)\n",
    "\n",
    "plt.loglog(gammas, omegas)\n",
    "\n",
    "plt.xlabel('$\\gamma$')\n",
    "plt.ylabel('$\\omega _r$ [{}]'.format(omegas.unit))"
   ]
  },
  {
   "cell_type": "markdown",
   "metadata": {},
   "source": [
    "## Synchrotron Frequency\n",
    "\n",
    "The synchrotron frequency is (see slide 40)\n",
    "$$\\nu_\\mathrm{sync} = \\frac{1}{2\\pi} \\left( \\frac{U}{m c^2} \\right)^2 \\frac{qB}{m} \\sin \\phi$$\n",
    "We are interested in electrons only, so we can keep the charge and mass fixed. Here is a function to do the calculation:"
   ]
  },
  {
   "cell_type": "code",
   "execution_count": 13,
   "metadata": {},
   "outputs": [],
   "source": [
    "def nu_sync (U, B, phi = 90*u.degree) : \n",
    "    \n",
    "    ret = U**2 * c.e.si * B * sin(phi) / 2 / pi / c.m_e**3 / c.c**4\n",
    "    \n",
    "    return ret.decompose().to(u.Hz)"
   ]
  },
  {
   "cell_type": "markdown",
   "metadata": {},
   "source": [
    "The lecture example takes an assumed magnetic field in the Crab Nebula of $B = 5 \\times 10^{-8}\\,\\mathrm{T}$.\n",
    "We have seen that there are electrons with an energy of $U = 21\\,\\mathrm{TeV}$. The synchrotron frequency is"
   ]
  },
  {
   "cell_type": "code",
   "execution_count": 14,
   "metadata": {},
   "outputs": [],
   "source": [
    "nu = nu_sync(21*u.TeV, 5e-8*u.T)"
   ]
  },
  {
   "cell_type": "code",
   "execution_count": 15,
   "metadata": {},
   "outputs": [
    {
     "data": {
      "text/latex": [
       "$2.3637966 \\times 10^{18} \\; \\mathrm{Hz}$"
      ],
      "text/plain": [
       "<Quantity 2.36379662e+18 Hz>"
      ]
     },
     "execution_count": 15,
     "metadata": {},
     "output_type": "execute_result"
    }
   ],
   "source": [
    "nu"
   ]
  },
  {
   "cell_type": "markdown",
   "metadata": {},
   "source": [
    "And the photon energy is"
   ]
  },
  {
   "cell_type": "code",
   "execution_count": 16,
   "metadata": {},
   "outputs": [],
   "source": [
    "E = nu*c.h"
   ]
  },
  {
   "cell_type": "code",
   "execution_count": 17,
   "metadata": {},
   "outputs": [
    {
     "data": {
      "text/latex": [
       "$9.7758773 \\; \\mathrm{keV}$"
      ],
      "text/plain": [
       "<Quantity 9.77587734 keV>"
      ]
     },
     "execution_count": 17,
     "metadata": {},
     "output_type": "execute_result"
    }
   ],
   "source": [
    "E.to(u.keV)"
   ]
  },
  {
   "cell_type": "markdown",
   "metadata": {},
   "source": [
    "### Exercise\n",
    "In order to fill the table on the tutorial sheet you need a function to calculate the electron energy $U$ in eV from the synchrotron frequency. Write a function to do this calculation.\n",
    "\n",
    "**[3 marks]**"
   ]
  },
  {
   "cell_type": "code",
   "execution_count": 18,
   "metadata": {},
   "outputs": [],
   "source": [
    "def Eelectron_sync (nu, B, phi = 90*u.degree) :\n",
    "    \n",
    "    # fill in your code here\n",
    "    E = 0*u.eV\n",
    "    \n",
    "    return E.to(u.eV)"
   ]
  },
  {
   "cell_type": "markdown",
   "metadata": {},
   "source": [
    "Now we test the function."
   ]
  },
  {
   "cell_type": "code",
   "execution_count": 19,
   "metadata": {},
   "outputs": [
    {
     "data": {
      "text/latex": [
       "$0 \\; \\mathrm{eV}$"
      ],
      "text/plain": [
       "<Quantity 0. eV>"
      ]
     },
     "execution_count": 19,
     "metadata": {},
     "output_type": "execute_result"
    }
   ],
   "source": [
    "Eelectron_sync(9.8*u.keV/c.h, B)"
   ]
  },
  {
   "cell_type": "markdown",
   "metadata": {},
   "source": [
    "## Power Spectrum\n",
    "We want to write a function to calculate the power spectrum of the synchrotron radiation of a mono-energetic electron. The equation (see slide 43) is\n",
    "$$ P(\\omega) = \\frac{\\sqrt{3}}{8 \\pi^2} \\frac{q^3 B \\sin \\phi}{\\epsilon_0 c m} F\\left( \\frac{\\omega}{\\omega_c} \\right)$$\n",
    "with\n",
    "$$ F(x) = x \\int_x^\\infty K_{5/3} (z) dz $$\n",
    "and $K_{5/3} (z)$ being a modified Bessel function of the 2nd kind."
   ]
  },
  {
   "cell_type": "markdown",
   "metadata": {},
   "source": [
    "In order write a function for the entire power spectrum of an electron we will need some more modules:"
   ]
  },
  {
   "cell_type": "code",
   "execution_count": 20,
   "metadata": {},
   "outputs": [],
   "source": [
    "import scipy.integrate as integrate\n",
    "import scipy.special as special"
   ]
  },
  {
   "cell_type": "markdown",
   "metadata": {},
   "source": [
    "The function $F(x)$ can be programmed as follows. (see https://docs.scipy.org/doc/scipy/reference/tutorial/integrate.html)"
   ]
  },
  {
   "cell_type": "code",
   "execution_count": 21,
   "metadata": {},
   "outputs": [],
   "source": [
    "def F(x) :\n",
    "    ## https://docs.scipy.org/doc/scipy/reference/tutorial/integrate.html\n",
    "    \n",
    "    #K53 = special.kv(5./3, x)\n",
    "    result = x*integrate.quad(lambda z: special.kv(5./3,z), x, np.inf)[0]\n",
    "    \n",
    "    return result"
   ]
  },
  {
   "cell_type": "markdown",
   "metadata": {},
   "source": [
    "But we need something that will work on a vector of x values:"
   ]
  },
  {
   "cell_type": "code",
   "execution_count": 22,
   "metadata": {},
   "outputs": [],
   "source": [
    "def F_vec(x_vec) :\n",
    "    \n",
    "    integrateArray = []\n",
    "    \n",
    "    for x in x_vec :\n",
    "        integrate = F(x)\n",
    "        integrateArray.append(integrate)\n",
    "    \n",
    "    return integrateArray    "
   ]
  },
  {
   "cell_type": "markdown",
   "metadata": {},
   "source": [
    "Here is a function to calculate the power radiated by an electron with energy $E$ in a magnetic field $B$ with a pitch angle $\\phi$. nu can be a single frequency or an array of frequencies. Everything else must be a scalar."
   ]
  },
  {
   "cell_type": "code",
   "execution_count": 23,
   "metadata": {},
   "outputs": [],
   "source": [
    "def Psync(nu, E, B, phi = 90*u.degree) : \n",
    "\n",
    "    nu_over_nus = nu / nu_sync (E, B, phi)\n",
    "    \n",
    "    nu_over_nus = nu_over_nus.decompose().value\n",
    "    \n",
    "    if type(nu_over_nus) is np.ndarray :\n",
    "        print('array mode')\n",
    "        ret = np.array(F_vec(nu_over_nus))*u.one\n",
    "    else :\n",
    "        print('single mode')\n",
    "        ret = F(nu_over_nus)*u.one\n",
    "\n",
    "\n",
    "    ret *= sqrt(3)/8/pi**2 \n",
    "    \n",
    "    ret *= c.e.si**3 * B * sin(phi) / c.m_e / c.c / c.eps0.si\n",
    "\n",
    "\n",
    "    return ret.to(u.W/u.Hz)\n"
   ]
  },
  {
   "cell_type": "markdown",
   "metadata": {},
   "source": [
    "Let's calulcate the power for a range of frequencies. Let's use an electron energy of $U = 19\\,\\mathrm{TeV}$ and $B = 5\\times10^{-8}\\,\\mathrm{T}$. "
   ]
  },
  {
   "cell_type": "code",
   "execution_count": 24,
   "metadata": {},
   "outputs": [],
   "source": [
    "U = 19*u.TeV\n",
    "B = 5e-8*u.T"
   ]
  },
  {
   "cell_type": "code",
   "execution_count": 25,
   "metadata": {},
   "outputs": [],
   "source": [
    "frequencies = np.logspace(13, 19, 601) * u.Hz"
   ]
  },
  {
   "cell_type": "code",
   "execution_count": 26,
   "metadata": {},
   "outputs": [
    {
     "name": "stdout",
     "output_type": "stream",
     "text": [
      "array mode\n"
     ]
    }
   ],
   "source": [
    "P = Psync(frequencies, U, B)"
   ]
  },
  {
   "cell_type": "code",
   "execution_count": 27,
   "metadata": {},
   "outputs": [
    {
     "data": {
      "text/latex": [
       "$[6.9314008 \\times 10^{-35},~6.9847787 \\times 10^{-35},~7.0385672 \\times 10^{-35},~\\dots,~4.2063075 \\times 10^{-35},~3.7847631 \\times 10^{-35},~3.396462 \\times 10^{-35}] \\; \\mathrm{\\frac{W}{Hz}}$"
      ],
      "text/plain": [
       "<Quantity [6.93140080e-35, 6.98477870e-35, 7.03856722e-35, 7.09276953e-35,\n",
       "           7.14738879e-35, 7.20242821e-35, 7.25789099e-35, 7.31378039e-35,\n",
       "           7.37009969e-35, 7.42685216e-35, 7.48404114e-35, 7.54166997e-35,\n",
       "           7.59974202e-35, 7.65826068e-35, 7.71722938e-35, 7.77665157e-35,\n",
       "           7.83653072e-35, 7.89687033e-35, 7.95767393e-35, 8.01894507e-35,\n",
       "           8.08068733e-35, 8.14290432e-35, 8.20559968e-35, 8.26877706e-35,\n",
       "           8.33244015e-35, 8.39659269e-35, 8.46123840e-35, 8.52638106e-35,\n",
       "           8.59202448e-35, 8.65817249e-35, 8.72482895e-35, 8.79199775e-35,\n",
       "           8.85968280e-35, 8.92788805e-35, 8.99661749e-35, 9.06587512e-35,\n",
       "           9.13566498e-35, 9.20599113e-35, 9.27685768e-35, 9.34826875e-35,\n",
       "           9.42022851e-35, 9.49274114e-35, 9.56581088e-35, 9.63944198e-35,\n",
       "           9.71363872e-35, 9.78840542e-35, 9.86374643e-35, 9.93966615e-35,\n",
       "           1.00161690e-34, 1.00932594e-34, 1.01709418e-34, 1.02492208e-34,\n",
       "           1.03281010e-34, 1.04075868e-34, 1.04876830e-34, 1.05683941e-34,\n",
       "           1.06497249e-34, 1.07316801e-34, 1.08142644e-34, 1.08974826e-34,\n",
       "           1.09813397e-34, 1.10658403e-34, 1.11509895e-34, 1.12367922e-34,\n",
       "           1.13232533e-34, 1.14103779e-34, 1.14981709e-34, 1.15866376e-34,\n",
       "           1.16757830e-34, 1.17656123e-34, 1.18561306e-34, 1.19473433e-34,\n",
       "           1.20392555e-34, 1.21318727e-34, 1.22252001e-34, 1.23192432e-34,\n",
       "           1.24140074e-34, 1.25094982e-34, 1.26057210e-34, 1.27026815e-34,\n",
       "           1.28003852e-34, 1.28988378e-34, 1.29980449e-34, 1.30980124e-34,\n",
       "           1.31987458e-34, 1.33002511e-34, 1.34025341e-34, 1.35056006e-34,\n",
       "           1.36094567e-34, 1.37141082e-34, 1.38195613e-34, 1.39258219e-34,\n",
       "           1.40328962e-34, 1.41407903e-34, 1.42495105e-34, 1.43590629e-34,\n",
       "           1.44694539e-34, 1.45806897e-34, 1.46927768e-34, 1.48057216e-34,\n",
       "           1.49195305e-34, 1.50342101e-34, 1.51497670e-34, 1.52662077e-34,\n",
       "           1.53835389e-34, 1.55017673e-34, 1.56208997e-34, 1.57409428e-34,\n",
       "           1.58619036e-34, 1.59837889e-34, 1.61066056e-34, 1.62303609e-34,\n",
       "           1.63550616e-34, 1.64807150e-34, 1.66073281e-34, 1.67349082e-34,\n",
       "           1.68634625e-34, 1.69929983e-34, 1.71235230e-34, 1.72550440e-34,\n",
       "           1.73875687e-34, 1.75211046e-34, 1.76556594e-34, 1.77912406e-34,\n",
       "           1.79278558e-34, 1.80655129e-34, 1.82042196e-34, 1.83439837e-34,\n",
       "           1.84848131e-34, 1.86267157e-34, 1.87696996e-34, 1.89137727e-34,\n",
       "           1.90589432e-34, 1.92052193e-34, 1.93526092e-34, 1.95011210e-34,\n",
       "           1.96507633e-34, 1.98015443e-34, 1.99534725e-34, 2.01065564e-34,\n",
       "           2.02608045e-34, 2.04162255e-34, 2.05728281e-34, 2.07306209e-34,\n",
       "           2.08896128e-34, 2.10498126e-34, 2.12112292e-34, 2.13738716e-34,\n",
       "           2.15377488e-34, 2.17028699e-34, 2.18692441e-34, 2.20368806e-34,\n",
       "           2.22057885e-34, 2.23759774e-34, 2.25474564e-34, 2.27202352e-34,\n",
       "           2.28943232e-34, 2.30697300e-34, 2.32464652e-34, 2.34245385e-34,\n",
       "           2.36039597e-34, 2.37847386e-34, 2.39668851e-34, 2.41504092e-34,\n",
       "           2.43353207e-34, 2.45216299e-34, 2.47093469e-34, 2.48984819e-34,\n",
       "           2.50890450e-34, 2.52810467e-34, 2.54744974e-34, 2.56694075e-34,\n",
       "           2.58657874e-34, 2.60636479e-34, 2.62629996e-34, 2.64638531e-34,\n",
       "           2.66662193e-34, 2.68701089e-34, 2.70755330e-34, 2.72825024e-34,\n",
       "           2.74910282e-34, 2.77011216e-34, 2.79127936e-34, 2.81260554e-34,\n",
       "           2.83409185e-34, 2.85573942e-34, 2.87754938e-34, 2.89952289e-34,\n",
       "           2.92166110e-34, 2.94396517e-34, 2.96643628e-34, 2.98907559e-34,\n",
       "           3.01188430e-34, 3.03486357e-34, 3.05801462e-34, 3.08133864e-34,\n",
       "           3.10483684e-34, 3.12851042e-34, 3.15236062e-34, 3.17638865e-34,\n",
       "           3.20059575e-34, 3.22498316e-34, 3.24955212e-34, 3.27430388e-34,\n",
       "           3.29923970e-34, 3.32436084e-34, 3.34966857e-34, 3.37516418e-34,\n",
       "           3.40084893e-34, 3.42672412e-34, 3.45279103e-34, 3.47905098e-34,\n",
       "           3.50550527e-34, 3.53215520e-34, 3.55900209e-34, 3.58604727e-34,\n",
       "           3.61329206e-34, 3.64073780e-34, 3.66838583e-34, 3.69623749e-34,\n",
       "           3.72429413e-34, 3.75255711e-34, 3.78102779e-34, 3.80970754e-34,\n",
       "           3.83859772e-34, 3.86769971e-34, 3.89701489e-34, 3.92654466e-34,\n",
       "           3.95629039e-34, 3.98625348e-34, 4.01643534e-34, 4.04683737e-34,\n",
       "           4.07746097e-34, 4.10830756e-34, 4.13937855e-34, 4.17067536e-34,\n",
       "           4.20219943e-34, 4.23395216e-34, 4.26593501e-34, 4.29814939e-34,\n",
       "           4.33059675e-34, 4.36327853e-34, 4.39619617e-34, 4.42935111e-34,\n",
       "           4.46274482e-34, 4.49637872e-34, 4.53025429e-34, 4.56437298e-34,\n",
       "           4.59873623e-34, 4.63334551e-34, 4.66820228e-34, 4.70330800e-34,\n",
       "           4.73866413e-34, 4.77427213e-34, 4.81013346e-34, 4.84624960e-34,\n",
       "           4.88262199e-34, 4.91925210e-34, 4.95614140e-34, 4.99329134e-34,\n",
       "           5.03070338e-34, 5.06837898e-34, 5.10631960e-34, 5.14452669e-34,\n",
       "           5.18300170e-34, 5.22174608e-34, 5.26076127e-34, 5.30004872e-34,\n",
       "           5.33960986e-34, 5.37944613e-34, 5.41955896e-34, 5.45994977e-34,\n",
       "           5.50061997e-34, 5.54157099e-34, 5.58280422e-34, 5.62432107e-34,\n",
       "           5.66612293e-34, 5.70821118e-34, 5.75058720e-34, 5.79325236e-34,\n",
       "           5.83620801e-34, 5.87945551e-34, 5.92299619e-34, 5.96683137e-34,\n",
       "           6.01096239e-34, 6.05539053e-34, 6.10011709e-34, 6.14514335e-34,\n",
       "           6.19047058e-34, 6.23610002e-34, 6.28203290e-34, 6.32827045e-34,\n",
       "           6.37481387e-34, 6.42166435e-34, 6.46882304e-34, 6.51629110e-34,\n",
       "           6.56406966e-34, 6.61215982e-34, 6.66056267e-34, 6.70927927e-34,\n",
       "           6.75831068e-34, 6.80765789e-34, 6.85732191e-34, 6.90730371e-34,\n",
       "           6.95760422e-34, 7.00822435e-34, 7.05916499e-34, 7.11042700e-34,\n",
       "           7.16201120e-34, 7.21391837e-34, 7.26614928e-34, 7.31870465e-34,\n",
       "           7.37158516e-34, 7.42479148e-34, 7.47832421e-34, 7.53218393e-34,\n",
       "           7.58637118e-34, 7.64088644e-34, 7.69573016e-34, 7.75090276e-34,\n",
       "           7.80640458e-34, 7.86223595e-34, 7.91839712e-34, 7.97488830e-34,\n",
       "           8.03170965e-34, 8.08886129e-34, 8.14634325e-34, 8.20415554e-34,\n",
       "           8.26229808e-34, 8.32077075e-34, 8.37957337e-34, 8.43870567e-34,\n",
       "           8.49816734e-34, 8.55795799e-34, 8.61807716e-34, 8.67852432e-34,\n",
       "           8.73929887e-34, 8.80040012e-34, 8.86182731e-34, 8.92357960e-34,\n",
       "           8.98565606e-34, 9.04805568e-34, 9.11077737e-34, 9.17381993e-34,\n",
       "           9.23718207e-34, 9.30086242e-34, 9.36485950e-34, 9.42917173e-34,\n",
       "           9.49379742e-34, 9.55873478e-34, 9.62398192e-34, 9.68953681e-34,\n",
       "           9.75539733e-34, 9.82156123e-34, 9.88802614e-34, 9.95478955e-34,\n",
       "           1.00218489e-33, 1.00892013e-33, 1.01568440e-33, 1.02247738e-33,\n",
       "           1.02929877e-33, 1.03614823e-33, 1.04302541e-33, 1.04992996e-33,\n",
       "           1.05686148e-33, 1.06381960e-33, 1.07080388e-33, 1.07781392e-33,\n",
       "           1.08484926e-33, 1.09190943e-33, 1.09899396e-33, 1.10610235e-33,\n",
       "           1.11323407e-33, 1.12038858e-33, 1.12756532e-33, 1.13476372e-33,\n",
       "           1.14198317e-33, 1.14922305e-33, 1.15648270e-33, 1.16376146e-33,\n",
       "           1.17105865e-33, 1.17837353e-33, 1.18570537e-33, 1.19305341e-33,\n",
       "           1.20041685e-33, 1.20779487e-33, 1.21518663e-33, 1.22259126e-33,\n",
       "           1.23000786e-33, 1.23743549e-33, 1.24487320e-33, 1.25232000e-33,\n",
       "           1.25977488e-33, 1.26723677e-33, 1.27470460e-33, 1.28217726e-33,\n",
       "           1.28965359e-33, 1.29713241e-33, 1.30461250e-33, 1.31209260e-33,\n",
       "           1.31957144e-33, 1.32704768e-33, 1.33451995e-33, 1.34198685e-33,\n",
       "           1.34944694e-33, 1.35689873e-33, 1.36434070e-33, 1.37177129e-33,\n",
       "           1.37918887e-33, 1.38659180e-33, 1.39397838e-33, 1.40134686e-33,\n",
       "           1.40869546e-33, 1.41602234e-33, 1.42332562e-33, 1.43060336e-33,\n",
       "           1.43785358e-33, 1.44507424e-33, 1.45226327e-33, 1.45941853e-33,\n",
       "           1.46653782e-33, 1.47361890e-33, 1.48065948e-33, 1.48765719e-33,\n",
       "           1.49460964e-33, 1.50151435e-33, 1.50836880e-33, 1.51517039e-33,\n",
       "           1.52191649e-33, 1.52860439e-33, 1.53523133e-33, 1.54179446e-33,\n",
       "           1.54829091e-33, 1.55471772e-33, 1.56107186e-33, 1.56735024e-33,\n",
       "           1.57354973e-33, 1.57966709e-33, 1.58569906e-33, 1.59164226e-33,\n",
       "           1.59749328e-33, 1.60324864e-33, 1.60890478e-33, 1.61445806e-33,\n",
       "           1.61990480e-33, 1.62524122e-33, 1.63046349e-33, 1.63556770e-33,\n",
       "           1.64054987e-33, 1.64540596e-33, 1.65013184e-33, 1.65472334e-33,\n",
       "           1.65917619e-33, 1.66348606e-33, 1.66764857e-33, 1.67165924e-33,\n",
       "           1.67551354e-33, 1.67920688e-33, 1.68273459e-33, 1.68609194e-33,\n",
       "           1.68927414e-33, 1.69227634e-33, 1.69509362e-33, 1.69772101e-33,\n",
       "           1.70015348e-33, 1.70238594e-33, 1.70441326e-33, 1.70623024e-33,\n",
       "           1.70783166e-33, 1.70921222e-33, 1.71036662e-33, 1.71128950e-33,\n",
       "           1.71197545e-33, 1.71241906e-33, 1.71261488e-33, 1.71255743e-33,\n",
       "           1.71224123e-33, 1.71166077e-33, 1.71081055e-33, 1.70968506e-33,\n",
       "           1.70827879e-33, 1.70658625e-33, 1.70460196e-33, 1.70232048e-33,\n",
       "           1.69973637e-33, 1.69684428e-33, 1.69363885e-33, 1.69011482e-33,\n",
       "           1.68626698e-33, 1.68209019e-33, 1.67757940e-33, 1.67272966e-33,\n",
       "           1.66753611e-33, 1.66199402e-33, 1.65609878e-33, 1.64984592e-33,\n",
       "           1.64323112e-33, 1.63625024e-33, 1.62889929e-33, 1.62117449e-33,\n",
       "           1.61307226e-33, 1.60458924e-33, 1.59572230e-33, 1.58646855e-33,\n",
       "           1.57682539e-33, 1.56679048e-33, 1.55636178e-33, 1.54553755e-33,\n",
       "           1.53431640e-33, 1.52269728e-33, 1.51067948e-33, 1.49826270e-33,\n",
       "           1.48544703e-33, 1.47223295e-33, 1.45862139e-33, 1.44461374e-33,\n",
       "           1.43021184e-33, 1.41541801e-33, 1.40023507e-33, 1.38466636e-33,\n",
       "           1.36871576e-33, 1.35238768e-33, 1.33568711e-33, 1.31861960e-33,\n",
       "           1.30119130e-33, 1.28340896e-33, 1.26527994e-33, 1.24681225e-33,\n",
       "           1.22801450e-33, 1.20889597e-33, 1.18946658e-33, 1.16973690e-33,\n",
       "           1.14971818e-33, 1.12942233e-33, 1.10886189e-33, 1.08805011e-33,\n",
       "           1.06700086e-33, 1.04572868e-33, 1.02424875e-33, 1.00257687e-33,\n",
       "           9.80729487e-34, 9.58723624e-34, 9.36576901e-34, 9.14307500e-34,\n",
       "           8.91934141e-34, 8.69476055e-34, 8.46952954e-34, 8.24384998e-34,\n",
       "           8.01792757e-34, 7.79197171e-34, 7.56619512e-34, 7.34081332e-34,\n",
       "           7.11604417e-34, 6.89210738e-34, 6.66922390e-34, 6.44761543e-34,\n",
       "           6.22750376e-34, 6.00911016e-34, 5.79265479e-34, 5.57835597e-34,\n",
       "           5.36642954e-34, 5.15708818e-34, 4.95054068e-34, 4.74699124e-34,\n",
       "           4.54663878e-34, 4.34967620e-34, 4.15628970e-34, 3.96665807e-34,\n",
       "           3.78095199e-34, 3.59933341e-34, 3.42195486e-34, 3.24895886e-34,\n",
       "           3.08047734e-34, 2.91663110e-34, 2.75752928e-34, 2.60326895e-34,\n",
       "           2.45393465e-34, 2.30959812e-34, 2.17031794e-34, 2.03613934e-34,\n",
       "           1.90708117e-34, 1.78320025e-34, 1.66446241e-34, 1.55087155e-34,\n",
       "           1.44240524e-34, 1.33902784e-34, 1.24069083e-34, 1.14733312e-34,\n",
       "           1.05888149e-34, 9.75251144e-35, 8.96346213e-35, 8.22060442e-35,\n",
       "           7.52277870e-35, 6.86873574e-35, 6.25714474e-35, 5.68660171e-35,\n",
       "           5.15563816e-35, 4.66273016e-35, 4.20630751e-35, 3.78476306e-35,\n",
       "           3.39646203e-35] W / Hz>"
      ]
     },
     "execution_count": 27,
     "metadata": {},
     "output_type": "execute_result"
    }
   ],
   "source": [
    "P"
   ]
  },
  {
   "cell_type": "markdown",
   "metadata": {},
   "source": [
    "Let's make a plot of it:"
   ]
  },
  {
   "cell_type": "code",
   "execution_count": 28,
   "metadata": {},
   "outputs": [
    {
     "data": {
      "text/plain": [
       "Text(0, 0.5, 'P [W / Hz]')"
      ]
     },
     "execution_count": 28,
     "metadata": {},
     "output_type": "execute_result"
    },
    {
     "data": {
      "image/png": "[encoded data removed]",
      "text/plain": [
       "<Figure size 432x288 with 1 Axes>"
      ]
     },
     "metadata": {
      "needs_background": "light"
     },
     "output_type": "display_data"
    }
   ],
   "source": [
    "plt.plot(frequencies, P)\n",
    "\n",
    "plt.xscale('log')\n",
    "\n",
    "plt.xlabel('frequency [{}]'.format(frequencies.unit))\n",
    "plt.ylabel('P [{}]'.format(P.unit))"
   ]
  },
  {
   "cell_type": "markdown",
   "metadata": {},
   "source": [
    "### Exercise\n",
    "Make plots similar to the plots on slide 24 of the lecture on Synchrotron Radiation O. Use 0.1, 1 and 10 TeV for the electron energy and a magnetic field of $B = 10^{-8}\\,\\mathrm{T}$ for the first plot, and an electron energy of $U = 10\\,\\mathrm{TeV}$ and magnetic fields of $10^{-10}\\,\\mathrm{T}$,$10^{-9}\\,\\mathrm{T}$, and $10^{-8}\\,\\mathrm{T}$.\n",
    "\n",
    "**[3 marks]**"
   ]
  },
  {
   "cell_type": "code",
   "execution_count": 29,
   "metadata": {},
   "outputs": [],
   "source": [
    "# for plot 1\n",
    "U_1 = [0.1, 1, 10] *u.TeV\n",
    "B_1 = 1e-8 * u.T\n",
    "\n",
    "# fill in your code here"
   ]
  },
  {
   "cell_type": "code",
   "execution_count": 30,
   "metadata": {},
   "outputs": [],
   "source": [
    "# for plot 2\n",
    "U_2 = 10 *u.TeV\n",
    "B_2 = [1e-10, 1e-9, 1e-8] * u.T\n",
    "\n",
    "# fill in your code here"
   ]
  },
  {
   "cell_type": "markdown",
   "metadata": {},
   "source": [
    "## Emitted Power in the Relativistic Case "
   ]
  },
  {
   "cell_type": "markdown",
   "metadata": {},
   "source": [
    "We will use the equation from slide 8 of the lecture Synchrotron Radiation II. Electron energy and magnetic field are as above:"
   ]
  },
  {
   "cell_type": "code",
   "execution_count": 31,
   "metadata": {},
   "outputs": [
    {
     "data": {
      "text/latex": [
       "$19 \\; \\mathrm{TeV}$"
      ],
      "text/plain": [
       "<Quantity 19. TeV>"
      ]
     },
     "execution_count": 31,
     "metadata": {},
     "output_type": "execute_result"
    }
   ],
   "source": [
    "U"
   ]
  },
  {
   "cell_type": "code",
   "execution_count": 32,
   "metadata": {},
   "outputs": [
    {
     "data": {
      "text/latex": [
       "$5 \\times 10^{-8} \\; \\mathrm{T}$"
      ],
      "text/plain": [
       "<Quantity 5.e-08 T>"
      ]
     },
     "execution_count": 32,
     "metadata": {},
     "output_type": "execute_result"
    }
   ],
   "source": [
    "B"
   ]
  },
  {
   "cell_type": "markdown",
   "metadata": {},
   "source": [
    "As the electron is highly relativistic we can set $\\beta$ to $1$."
   ]
  },
  {
   "cell_type": "code",
   "execution_count": 33,
   "metadata": {},
   "outputs": [],
   "source": [
    "beta = 1"
   ]
  },
  {
   "cell_type": "code",
   "execution_count": 34,
   "metadata": {},
   "outputs": [],
   "source": [
    "P = 2./3 * c.eps0.si * c.sigma_T * beta**2 / (c.c * c.m_e**2) * B**2 * U**2"
   ]
  },
  {
   "cell_type": "code",
   "execution_count": 35,
   "metadata": {},
   "outputs": [
    {
     "data": {
      "text/latex": [
       "$3.6568653 \\times 10^{-14} \\; \\mathrm{W}$"
      ],
      "text/plain": [
       "<Quantity 3.6568653e-14 W>"
      ]
     },
     "execution_count": 35,
     "metadata": {},
     "output_type": "execute_result"
    }
   ],
   "source": [
    "P.to(u.W)"
   ]
  },
  {
   "cell_type": "markdown",
   "metadata": {},
   "source": [
    "## Synchrotron Cooling Time"
   ]
  },
  {
   "cell_type": "markdown",
   "metadata": {},
   "source": [
    "The synchrotron cooling time (lecture Synchrotron Radiation II, slide 13) is\n",
    "$$\n",
    "\\tau_\\mathsf{sync} (U) = \\frac{3}{2} \\frac{c m_e^2}{\\varepsilon_0 \\sigma_T \\beta B^2 U}\n",
    "$$\n",
    "where $B$ is the magnetic field and $U$ is the total energy of the electron. We will be dealing only with electrons so we will use the eletron mass for the particle's mass.\n",
    "### Exercise\n",
    "Write a function that calculates the cooling time for a given magnetic field and (an array of) electron energy.\n",
    "\n",
    "**[3 marks]**"
   ]
  },
  {
   "cell_type": "code",
   "execution_count": 36,
   "metadata": {},
   "outputs": [],
   "source": [
    "def CoolingTime_Sync (U, B = 5e-8*u.T, beta = 1.) :\n",
    "    \n",
    "    # your code here\n",
    "    tau = U.value * 0 * u.s\n",
    "    \n",
    "    return tau.to(u.s)"
   ]
  },
  {
   "cell_type": "markdown",
   "metadata": {},
   "source": [
    "Let's test the function for an array of four electron energies:"
   ]
  },
  {
   "cell_type": "code",
   "execution_count": 37,
   "metadata": {},
   "outputs": [
    {
     "data": {
      "text/latex": [
       "$[0,~0,~0] \\; \\mathrm{s}$"
      ],
      "text/plain": [
       "<Quantity [0., 0., 0.] s>"
      ]
     },
     "execution_count": 37,
     "metadata": {},
     "output_type": "execute_result"
    }
   ],
   "source": [
    "U = [1e-1, 1, 10] * u.TeV\n",
    "CoolingTime_Sync (U)"
   ]
  },
  {
   "cell_type": "markdown",
   "metadata": {},
   "source": [
    "### Exercise\n",
    "Make a plot of the cooling time vs. electron energy for electron energies between 1 MeV and 100 TeV.\n",
    "\n",
    "**[3 marks]**"
   ]
  },
  {
   "cell_type": "code",
   "execution_count": 38,
   "metadata": {},
   "outputs": [],
   "source": [
    "# your code here"
   ]
  },
  {
   "cell_type": "markdown",
   "metadata": {},
   "source": [
    "Expected Output:"
   ]
  },
  {
   "cell_type": "markdown",
   "metadata": {},
   "source": [
    "## Synchrotron Radiation from an Electron Population\n",
    "So far we have dealt with mono-energetic electrons. We usually observe electrons of many different energies, often they follow a power law. Let's define our power law as in the Introduction."
   ]
  },
  {
   "cell_type": "code",
   "execution_count": 39,
   "metadata": {},
   "outputs": [],
   "source": [
    "E_0 = 1 * u.TeV\n",
    "A = 10 / u.TeV\n",
    "Gamma = 2.5"
   ]
  },
  {
   "cell_type": "code",
   "execution_count": 40,
   "metadata": {},
   "outputs": [],
   "source": [
    "PL = PowerLaw1D(A, E_0, Gamma)"
   ]
  },
  {
   "cell_type": "markdown",
   "metadata": {},
   "source": [
    "We define a range of photon frequencies:"
   ]
  },
  {
   "cell_type": "code",
   "execution_count": 41,
   "metadata": {},
   "outputs": [],
   "source": [
    "frequencies = np.logspace(13, 19, 601) * u.Hz"
   ]
  },
  {
   "cell_type": "markdown",
   "metadata": {},
   "source": [
    "And we use our magnetic field of $B = 10^{-8}\\,\\mathsf{T}$:"
   ]
  },
  {
   "cell_type": "code",
   "execution_count": 42,
   "metadata": {},
   "outputs": [],
   "source": [
    "B = 1e-8 * u.T"
   ]
  },
  {
   "cell_type": "markdown",
   "metadata": {},
   "source": [
    "Let's get the synchrotron spectra for electron energies of 100 GeV, 1 TeV and 10 TeV: "
   ]
  },
  {
   "cell_type": "code",
   "execution_count": 43,
   "metadata": {},
   "outputs": [
    {
     "name": "stdout",
     "output_type": "stream",
     "text": [
      "array mode\n",
      "array mode\n",
      "array mode\n"
     ]
    }
   ],
   "source": [
    "spec_100GeV = Psync(frequencies, 100*u.GeV, B)\n",
    "spec_1TeV = Psync(frequencies, 1*u.TeV, B)\n",
    "spec_10TeV = Psync(frequencies, 10*u.TeV, B)"
   ]
  },
  {
   "cell_type": "markdown",
   "metadata": {},
   "source": [
    "But we have more electrons at 1 GeV then at 10 GeV. How many electrons? This comes from the power law defined above. We have to multiply the spectrum with the number of electrons:"
   ]
  },
  {
   "cell_type": "code",
   "execution_count": 44,
   "metadata": {},
   "outputs": [],
   "source": [
    "spec_100GeV *= PL(100*u.GeV)\n",
    "spec_1TeV *= PL(1*u.TeV)\n",
    "spec_10TeV *= PL(10*u.TeV)"
   ]
  },
  {
   "cell_type": "markdown",
   "metadata": {},
   "source": [
    "We have to sum these spectra to get the total emission:"
   ]
  },
  {
   "cell_type": "code",
   "execution_count": 45,
   "metadata": {},
   "outputs": [],
   "source": [
    "spec_sum = spec_100GeV.copy()\n",
    "\n",
    "spec_sum += spec_1TeV\n",
    "spec_sum += spec_10TeV"
   ]
  },
  {
   "cell_type": "code",
   "execution_count": 46,
   "metadata": {},
   "outputs": [
    {
     "data": {
      "text/plain": [
       "Text(0, 0.5, 'P [W / (Hz TeV)]')"
      ]
     },
     "execution_count": 46,
     "metadata": {},
     "output_type": "execute_result"
    },
    {
     "data": {
      "image/png": "[encoded data removed]",
      "text/plain": [
       "<Figure size 432x288 with 1 Axes>"
      ]
     },
     "metadata": {
      "needs_background": "light"
     },
     "output_type": "display_data"
    }
   ],
   "source": [
    "plt.loglog(frequencies, spec_sum, label = \"total emission\", linewidth = 4)\n",
    "\n",
    "plt.loglog(frequencies, spec_100GeV, label = \"100 GeV\")\n",
    "plt.loglog(frequencies, spec_1TeV, label = \"1 TeV\")\n",
    "plt.loglog(frequencies, spec_10TeV, label = \"10 TeV\")\n",
    "\n",
    "plt.legend()\n",
    "\n",
    "#p we need to limit the y range a bit:\n",
    "plt.ylim(1e-40,1e-30)\n",
    "\n",
    "plt.xlabel('frequency [{}]'.format(frequencies.unit))\n",
    "plt.ylabel('P [{}]'.format(spec_sum.unit))"
   ]
  },
  {
   "cell_type": "markdown",
   "metadata": {},
   "source": [
    "### Exercise\n",
    "Keep the electron energy range from 100 GeV to 10 TeV. Make the same plot as above but for many more intermediate energies. Create an array of electron energies and loop over it. You should have enough intermediate energies that the total emission is almost a power law.\n",
    "\n",
    "Take the part of the spectrum following clearly a power law. Find out the spectral index. You can do that by taking two values and doing the calculation on a sheet of paper. You can also do a least-square fit of the total emission.\n",
    "\n",
    "**[3 marks]**"
   ]
  },
  {
   "cell_type": "code",
   "execution_count": 47,
   "metadata": {},
   "outputs": [],
   "source": [
    "# Here is an empty spectrum to be filled in\n",
    "\n",
    "spec_sum = np.zeros(len(frequencies)) * u.W / (u.Hz * u.TeV)"
   ]
  },
  {
   "cell_type": "code",
   "execution_count": null,
   "metadata": {},
   "outputs": [],
   "source": [
    "# your code here"
   ]
  },
  {
   "cell_type": "markdown",
   "metadata": {},
   "source": [
    "Expected output:"
   ]
  },
  {
   "cell_type": "markdown",
   "metadata": {},
   "source": [
    "## Submission\n",
    "\n",
    "Before you submit your work you should make a few checks that everything works fine.\n",
    "\n",
    "1. Save your notebook as a PDF (File->Download As->PDF). This document will help you debugging in the next step.\n",
    "1. If PDF export does not work: You can do File->Print Preview and then print to a file.\n",
    "1. Restart the kernel and rerun the entire notebook (Kernel->Restart & Run All). This will delete all variables (but not your code) and rerun the notebook in one go. If this does not go through the endthen you have to fix it. You will see at which cell the run stopped. A common mistake is using a variable that is defined only at a later stage.\n",
    "1. You think you fixed everything? Redo step 2 (Kernel->Restart & Run All)\n",
    "\n",
    "You have to download and submit 2 files, the jupyter notebook and a pdf.\n",
    "- Jupyter notebook. File->Download As->Notebook (.ipynb). Save this file on your disk.\n",
    "- PDF file. File->Download As->PDF. Save this file on your disk.\n",
    "- If PDF export does not work. You can do File->Print Preview and then print to a file.\n",
    "\n",
    "Please submit the two files on Ulwazi."
   ]
  },
  {
   "cell_type": "code",
   "execution_count": null,
   "metadata": {},
   "outputs": [],
   "source": []
  }
 ],
 "metadata": {
  "kernelspec": {
   "display_name": "Python 3",
   "language": "python",
   "name": "python3"
  },
  "language_info": {
   "codemirror_mode": {
    "name": "ipython",
    "version": 3
   },
   "file_extension": ".py",
   "mimetype": "text/x-python",
   "name": "python",
   "nbconvert_exporter": "python",
   "pygments_lexer": "ipython3",
   "version": "3.7.0"
  }
 },
 "nbformat": 4,
 "nbformat_minor": 4
}
