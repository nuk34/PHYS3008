{
 "cells": [
  {
   "cell_type": "markdown",
   "metadata": {},
   "source": [
    "# Non-thermal radiation with naima\n",
    "In this jupyter notebook we will learn how to use the package naima to build non-thermal emission models. In the previous lectures we made many assumptions: mono-energetic electrons and photons and Thomson limit in the case of Inverse Compton emission. The naima modul can be used for any spectra of particles and photons. It also allows to fit the model to observational data.\n",
    "You can read more on naima on this web page:\n",
    "https://naima.readthedocs.io\n",
    "\n",
    "This Notebook contains 3 exercises for a total of 9 marks. Please submit on Ulwazi."
   ]
  },
  {
   "cell_type": "markdown",
   "metadata": {},
   "source": [
    "## Pre-requisites\n",
    "As usual, we need to import the modules."
   ]
  },
  {
   "cell_type": "code",
   "execution_count": null,
   "metadata": {},
   "outputs": [],
   "source": [
    "import numpy as np\n",
    "\n",
    "import matplotlib.pyplot as plt\n",
    "\n",
    "from astropy import units as u\n",
    "from astropy import constants as c\n",
    "\n",
    "from numpy import sqrt"
   ]
  },
  {
   "cell_type": "markdown",
   "metadata": {},
   "source": [
    "From naima we will import only the parts that we will make use of."
   ]
  },
  {
   "cell_type": "code",
   "execution_count": null,
   "metadata": {},
   "outputs": [],
   "source": [
    "from naima.models import Synchrotron, InverseCompton, PionDecay\n",
    "from naima.models import PowerLaw, ExponentialCutoffPowerLaw"
   ]
  },
  {
   "cell_type": "markdown",
   "metadata": {},
   "source": [
    "We will look at the total energy ouput of a hypothetical source. We will note yet deal with the flux which can be measured on Earth. So we will ignore the distance to the source. We will do so by using a distance of 0."
   ]
  },
  {
   "cell_type": "code",
   "execution_count": null,
   "metadata": {},
   "outputs": [],
   "source": [
    "d = 0 * u.kpc"
   ]
  },
  {
   "cell_type": "markdown",
   "metadata": {},
   "source": [
    "## Particle Spectra\n",
    "For our example we will assume a particle spectrum following a power law with index 2.5, with an amplitude $A$ at a reference energy of 1 TeV and an exponential cut off at an energy of 10 TeV. A power law with an exponential cut-off is given by\n",
    "$$\n",
    "f(E) = A \\left( \\frac{E}{E_0} \\right)^{-\\Gamma} \\times \\exp{\\left( -\\left(\\frac{E}{E_\\mathsf{cut}}\\right)^\\alpha \\right)} \n",
    "$$\n",
    "We will use $\\alpha = 1$ throughout this notebook. This is the default value, we simply ignore it."
   ]
  },
  {
   "cell_type": "code",
   "execution_count": null,
   "metadata": {},
   "outputs": [],
   "source": [
    "A = 1e45/u.TeV\n",
    "E_0 = 1 * u.TeV\n",
    "Gamma = 2.5\n",
    "E_cut = 10 * u.TeV"
   ]
  },
  {
   "cell_type": "code",
   "execution_count": null,
   "metadata": {},
   "outputs": [],
   "source": [
    "PL = ExponentialCutoffPowerLaw(A, E_0, Gamma, E_cut)"
   ]
  },
  {
   "cell_type": "markdown",
   "metadata": {},
   "source": [
    "We want to take a look at the spectrum in an energy range from 1 MeV to 100 TeV. (We should go down to 0.511 MeV as this is the electron rest energy. But this does not make a big difference)."
   ]
  },
  {
   "cell_type": "code",
   "execution_count": null,
   "metadata": {},
   "outputs": [],
   "source": [
    "energies = np.logspace(-6,2,801) * u.TeV"
   ]
  },
  {
   "cell_type": "code",
   "execution_count": null,
   "metadata": {},
   "outputs": [],
   "source": [
    "N = PL(energies)"
   ]
  },
  {
   "cell_type": "markdown",
   "metadata": {},
   "source": [
    "Let's make a plot of it:"
   ]
  },
  {
   "cell_type": "code",
   "execution_count": null,
   "metadata": {},
   "outputs": [],
   "source": [
    "plt.loglog(energies, N)\n",
    "\n",
    "plt.xlabel('E [{}]'.format(energies.unit))\n",
    "plt.ylabel('dN/dE [{}]'.format(N.unit))"
   ]
  },
  {
   "cell_type": "markdown",
   "metadata": {},
   "source": [
    "You see that above $\\approx 1\\,\\mathsf{TeV}$ the spectrum sharply drops off from the straight power law."
   ]
  },
  {
   "cell_type": "markdown",
   "metadata": {},
   "source": [
    "Note that this power law object describes only the shape of the spectrum. It tells us how many particles are found at which energy. It does not make any claim on the type of the particle. It can be electrons, protons, photons or anything else."
   ]
  },
  {
   "cell_type": "markdown",
   "metadata": {},
   "source": [
    "We can get the total energy stored in these particles by integrating over the number of particles (N) multiplied with the energy (from array energies):"
   ]
  },
  {
   "cell_type": "code",
   "execution_count": null,
   "metadata": {},
   "outputs": [],
   "source": [
    "E_tot = np.trapz(N*energies, energies)"
   ]
  },
  {
   "cell_type": "code",
   "execution_count": null,
   "metadata": {},
   "outputs": [],
   "source": [
    "E_tot.to(u.erg)"
   ]
  },
  {
   "cell_type": "markdown",
   "metadata": {},
   "source": [
    "## Synchrotron Radiation\n",
    "Naima provides a model for synchrotron radiation. We will use the magnetic field as before."
   ]
  },
  {
   "cell_type": "code",
   "execution_count": null,
   "metadata": {},
   "outputs": [],
   "source": [
    "B = 1e-8 * u.T"
   ]
  },
  {
   "cell_type": "markdown",
   "metadata": {},
   "source": [
    "We will create a synchrotron model object. The shape of the electron spectrum is given by the power law with cut-off as defined above. We also need to indicate the electron's minimal energy of 511 keV, as this is lower than the default value of 1 GeV."
   ]
  },
  {
   "cell_type": "code",
   "execution_count": null,
   "metadata": {},
   "outputs": [],
   "source": [
    "sync = Synchrotron(PL, B, Eemin = 511*u.keV)"
   ]
  },
  {
   "cell_type": "markdown",
   "metadata": {},
   "source": [
    "Note that this object has additional parameters. The maximum energy can be given as well (parameter Eemax) and the default value is 510 TeV. The number of points can be changed ro reduce computing time or increase accuracy (parameter nEed, default value 100).\n",
    "\n",
    "This object allows to calculate the total energy in electrons. This should correspond to our calculation above."
   ]
  },
  {
   "cell_type": "code",
   "execution_count": null,
   "metadata": {},
   "outputs": [],
   "source": [
    "sync.We"
   ]
  },
  {
   "cell_type": "markdown",
   "metadata": {},
   "source": [
    "You can also calculate the energy in electrons in a certain energy range, let's say from 100 GeV to 1 TeV:"
   ]
  },
  {
   "cell_type": "code",
   "execution_count": null,
   "metadata": {},
   "outputs": [],
   "source": [
    "sync.compute_We(100*u.GeV, 1*u.TeV)"
   ]
  },
  {
   "cell_type": "markdown",
   "metadata": {},
   "source": [
    "Let's create an energy range for the photons. This will define the range of the electromagnetic spectrum we want to study. We will study the range from $10^{-19}\\,\\mathsf{TeV}$ to $100\\,\\mathsf{TeV}$."
   ]
  },
  {
   "cell_type": "code",
   "execution_count": null,
   "metadata": {},
   "outputs": [],
   "source": [
    "photon_energies = np.logspace(-19,2,211) * u.TeV"
   ]
  },
  {
   "cell_type": "markdown",
   "metadata": {},
   "source": [
    "With the flux function of the sync object we can get the number of photons produced every second. We have to set the distance to 0, which we have defined as d = 0 above."
   ]
  },
  {
   "cell_type": "code",
   "execution_count": null,
   "metadata": {},
   "outputs": [],
   "source": [
    "flux_sync = sync.flux(photon_energies, distance = d)"
   ]
  },
  {
   "cell_type": "code",
   "execution_count": null,
   "metadata": {},
   "outputs": [],
   "source": [
    "flux_sync"
   ]
  },
  {
   "cell_type": "markdown",
   "metadata": {},
   "source": [
    "We can also use the function sed (which stands for spectral energy distribution) to get the energy flux, or with a distance of zero the luminosity of source."
   ]
  },
  {
   "cell_type": "code",
   "execution_count": null,
   "metadata": {},
   "outputs": [],
   "source": [
    "sed_sync = sync.sed(photon_energies, distance = d)"
   ]
  },
  {
   "cell_type": "code",
   "execution_count": null,
   "metadata": {},
   "outputs": [],
   "source": [
    "sed_sync"
   ]
  },
  {
   "cell_type": "markdown",
   "metadata": {},
   "source": [
    "You can get the SED by multiplying the flux with the square of the photon energy. Let's try this:"
   ]
  },
  {
   "cell_type": "code",
   "execution_count": null,
   "metadata": {},
   "outputs": [],
   "source": [
    "(flux_sync*(photon_energies**2)).to(u.erg/u.s)"
   ]
  },
  {
   "cell_type": "code",
   "execution_count": null,
   "metadata": {},
   "outputs": [],
   "source": [
    "Eflux_sync = flux_sync * photon_energies"
   ]
  },
  {
   "cell_type": "code",
   "execution_count": null,
   "metadata": {},
   "outputs": [],
   "source": [
    "Eflux_sync"
   ]
  },
  {
   "cell_type": "markdown",
   "metadata": {},
   "source": [
    "We can integrate over Eflux to get the total power in synchrotron radiation."
   ]
  },
  {
   "cell_type": "code",
   "execution_count": null,
   "metadata": {},
   "outputs": [],
   "source": [
    "P_sync = (np.trapz(Eflux_sync, photon_energies)).to(u.erg/u.s)"
   ]
  },
  {
   "cell_type": "code",
   "execution_count": null,
   "metadata": {},
   "outputs": [],
   "source": [
    "P_sync"
   ]
  },
  {
   "cell_type": "markdown",
   "metadata": {},
   "source": [
    "We can make a plot of the synchrotron radiation. Usually the SED is plotted in astrophysical publications."
   ]
  },
  {
   "cell_type": "code",
   "execution_count": null,
   "metadata": {},
   "outputs": [],
   "source": [
    "plt.loglog(photon_energies, sed_sync)\n",
    "\n",
    "plt.title('synchrotron radiation')\n",
    "\n",
    "plt.xlabel('$E$ [{}]'.format(photon_energies.unit))\n",
    "plt.ylabel('$E^2 dN/dE$ [{}]'.format(sed_sync.unit))\n",
    "\n",
    "plt.ylim(1e24, 1e36)"
   ]
  },
  {
   "cell_type": "markdown",
   "metadata": {},
   "source": [
    "## Inverse Compton Emission\n",
    "Similarly, you can also get the IC emission of these electrons. There several predefined photon fields in naima. You can also define your own photon field. For the moment we deal only with photons of the Cosmic Microwave Background (CMB)."
   ]
  },
  {
   "cell_type": "code",
   "execution_count": null,
   "metadata": {},
   "outputs": [],
   "source": [
    "photon_fields = ['CMB']"
   ]
  },
  {
   "cell_type": "code",
   "execution_count": null,
   "metadata": {},
   "outputs": [],
   "source": [
    "IC = InverseCompton(PL, photon_fields, Eemin = 511*u.keV)"
   ]
  },
  {
   "cell_type": "markdown",
   "metadata": {},
   "source": [
    "This works exactly as the synchrotron object, so we can do the same tests as above."
   ]
  },
  {
   "cell_type": "code",
   "execution_count": null,
   "metadata": {},
   "outputs": [],
   "source": [
    "IC.We"
   ]
  },
  {
   "cell_type": "code",
   "execution_count": null,
   "metadata": {},
   "outputs": [],
   "source": [
    "flux_ic = IC.flux(photon_energies, distance = d)\n",
    "\n",
    "sed_ic = IC.sed(photon_energies, distance = d)\n",
    "\n",
    "Eflux_ic = flux_ic * photon_energies"
   ]
  },
  {
   "cell_type": "code",
   "execution_count": null,
   "metadata": {},
   "outputs": [],
   "source": [
    "P_IC = (np.trapz(Eflux_ic, photon_energies)).to(u.erg/u.s)"
   ]
  },
  {
   "cell_type": "code",
   "execution_count": null,
   "metadata": {},
   "outputs": [],
   "source": [
    "P_IC"
   ]
  },
  {
   "cell_type": "markdown",
   "metadata": {},
   "source": [
    "This is the power radiated from Inverse Compton scattering. This is much lower than what we have calculated for the synchrotron radiation. Keep in mind, that ususally the cooling is synchrotron dominated."
   ]
  },
  {
   "cell_type": "markdown",
   "metadata": {},
   "source": [
    "Let's try to calculate the magnetic field from the power in synchrotron and inverse Compton emission. The equation from lecture slide 12 of \"Inverse Compton II\" is \n",
    "$$\n",
    "B = \\sqrt{ \\frac{u_\\mathsf{rad} P_\\mathsf{sync} 2 \\mu_0}{P_\\mathsf{IC}} }\n",
    "$$\n",
    "where $u_\\mathsf{rad} = 0.25\\,\\mathsf{eV}/\\mathsf{cm}^3$ is the energy density of the CMB photon field."
   ]
  },
  {
   "cell_type": "code",
   "execution_count": null,
   "metadata": {},
   "outputs": [],
   "source": [
    "B_measured = sqrt(0.25*u.eV/u.cm**3 * P_sync * 2 * c.mu0 / P_IC)"
   ]
  },
  {
   "cell_type": "code",
   "execution_count": null,
   "metadata": {},
   "outputs": [],
   "source": [
    "B_measured.to(u.T)"
   ]
  },
  {
   "cell_type": "markdown",
   "metadata": {},
   "source": [
    "This is the vaule we have put into our model!"
   ]
  },
  {
   "cell_type": "markdown",
   "metadata": {},
   "source": [
    "Let's make a plot of the Inverse Compton emission."
   ]
  },
  {
   "cell_type": "code",
   "execution_count": null,
   "metadata": {},
   "outputs": [],
   "source": [
    "plt.loglog(photon_energies, sed_ic)\n",
    "\n",
    "plt.title('Inverse Compton emission')\n",
    "\n",
    "plt.xlabel('$E$ [{}]'.format(photon_energies.unit))\n",
    "plt.ylabel('$E^2 dN/dE$ [{}]'.format(sed_ic.unit))"
   ]
  },
  {
   "cell_type": "markdown",
   "metadata": {},
   "source": [
    "Note the break at lower energies. This is due to the minimum energy of 511 keV. You can test this yourself. We can safely ignore this, this is at levels that we cannot measure anyway."
   ]
  },
  {
   "cell_type": "markdown",
   "metadata": {},
   "source": [
    "## Combined Plot\n",
    "We can show both emissions in one plot. This is the SED of the source."
   ]
  },
  {
   "cell_type": "code",
   "execution_count": null,
   "metadata": {},
   "outputs": [],
   "source": [
    "plt.loglog(photon_energies, sed_sync, label='synchrotron')\n",
    "plt.loglog(photon_energies, sed_ic, label='inverse Compton off CMB')\n",
    "\n",
    "plt.legend()\n",
    "plt.xlabel('$E$ [{}]'.format(photon_energies.unit))\n",
    "plt.ylabel('$E^2 dN/dE$ [{}]'.format(sed_ic.unit))\n",
    "\n",
    "plt.ylim(1e29, 1e36)"
   ]
  },
  {
   "cell_type": "markdown",
   "metadata": {},
   "source": [
    "You can also sum up the two components and show the total emission."
   ]
  },
  {
   "cell_type": "code",
   "execution_count": null,
   "metadata": {},
   "outputs": [],
   "source": [
    "sed_sum = sed_sync + sed_ic"
   ]
  },
  {
   "cell_type": "code",
   "execution_count": null,
   "metadata": {},
   "outputs": [],
   "source": [
    "plt.loglog(photon_energies, sed_sum)"
   ]
  },
  {
   "cell_type": "markdown",
   "metadata": {},
   "source": [
    "### Exercise\n",
    "We keep the electron spectrum as it is. We want to understand what is happening when we increase or decrease the magnetic field. Plot the total emission (synchrotron and inverse Compton emission) for the cases of $10^{-7}\\,\\mathsf{T}$, $10^{-8}\\,\\mathsf{T}$ and $10^{-9}\\,\\mathsf{T}$.\n",
    "\n",
    "**[3 marks]**"
   ]
  },
  {
   "cell_type": "code",
   "execution_count": null,
   "metadata": {},
   "outputs": [],
   "source": [
    "Bs = [1e-7,1e-8,1e-9] *u.T"
   ]
  },
  {
   "cell_type": "code",
   "execution_count": null,
   "metadata": {},
   "outputs": [],
   "source": [
    "# your code here\n",
    "\n"
   ]
  },
  {
   "attachments": {
    "Sync_and_IC_vs_B.svg": {
     "image/svg+xml": [
      "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"
     ]
    }
   },
   "cell_type": "markdown",
   "metadata": {},
   "source": [
    "Expected output:\n",
    "![Sync_and_IC_vs_B.svg](attachment:Sync_and_IC_vs_B.svg)"
   ]
  },
  {
   "cell_type": "markdown",
   "metadata": {},
   "source": [
    "## Hadronic emission\n",
    "Naima also provides a model for gamma-ray production through pion decay in inelastic proton-proton collisions. The only parameter is the target material density, we will use 1 particle per cm$^3$."
   ]
  },
  {
   "cell_type": "code",
   "execution_count": null,
   "metadata": {},
   "outputs": [],
   "source": [
    "n = 1./ u.cm**3"
   ]
  },
  {
   "cell_type": "markdown",
   "metadata": {},
   "source": [
    "We will define a new spectrum for the protons and keep the same parameters. (We could use the same as above, but we want to be sure that we do not mix up the different particles.)"
   ]
  },
  {
   "cell_type": "code",
   "execution_count": null,
   "metadata": {},
   "outputs": [],
   "source": [
    "PL_protons = ExponentialCutoffPowerLaw(A, E_0, Gamma, E_cut)"
   ]
  },
  {
   "cell_type": "code",
   "execution_count": null,
   "metadata": {},
   "outputs": [],
   "source": [
    "had = PionDecay(PL_protons, n)"
   ]
  },
  {
   "cell_type": "markdown",
   "metadata": {},
   "source": [
    "Similar to what was done above we can calculate the total energy in protons. As we are talking about protons now we have to call Wp:"
   ]
  },
  {
   "cell_type": "code",
   "execution_count": null,
   "metadata": {},
   "outputs": [],
   "source": [
    "had.Wp"
   ]
  },
  {
   "cell_type": "markdown",
   "metadata": {},
   "source": [
    "This is what we have put in above. But for protons this might be a bit low. For a supernova remnant for example we are expecting up to $10^{50}\\,\\mathsf{erg}$ which is about 10% of the explosion energy. We can set the total energy in the PionDecay object:"
   ]
  },
  {
   "cell_type": "code",
   "execution_count": null,
   "metadata": {},
   "outputs": [],
   "source": [
    "had.set_Wp(1e50*u.erg)"
   ]
  },
  {
   "cell_type": "code",
   "execution_count": null,
   "metadata": {},
   "outputs": [],
   "source": [
    "had.Wp"
   ]
  },
  {
   "cell_type": "markdown",
   "metadata": {},
   "source": [
    "This worked. This changed the amplitude of our spectrum. Let's check:"
   ]
  },
  {
   "cell_type": "code",
   "execution_count": null,
   "metadata": {},
   "outputs": [],
   "source": [
    "PL_protons.amplitude"
   ]
  },
  {
   "cell_type": "markdown",
   "metadata": {},
   "source": [
    "Now we can do the same steps as above:"
   ]
  },
  {
   "cell_type": "code",
   "execution_count": null,
   "metadata": {},
   "outputs": [],
   "source": [
    "flux_had = had.flux(photon_energies, distance = d)\n",
    "\n",
    "sed_had = had.sed(photon_energies, distance = d)\n",
    "\n",
    "Eflux_had = flux_had * photon_energies"
   ]
  },
  {
   "cell_type": "code",
   "execution_count": null,
   "metadata": {},
   "outputs": [],
   "source": [
    "P_had = (np.trapz(Eflux_had, photon_energies)).to(u.erg/u.s)"
   ]
  },
  {
   "cell_type": "code",
   "execution_count": null,
   "metadata": {},
   "outputs": [],
   "source": [
    "P_had"
   ]
  },
  {
   "cell_type": "code",
   "execution_count": null,
   "metadata": {},
   "outputs": [],
   "source": [
    "plt.loglog(photon_energies, sed_had)\n",
    "\n",
    "plt.title('hadronic emission')\n",
    "\n",
    "plt.xlabel('$E$ [{}]'.format(photon_energies.unit))\n",
    "plt.ylabel('$E^2 dN/dE$ [{}]'.format(sed_ic.unit))\n",
    "\n",
    "plt.ylim(1e30)\n",
    "plt.xlim(1e-6)"
   ]
  },
  {
   "cell_type": "markdown",
   "metadata": {},
   "source": [
    "You see the characteristic turn-over at lower energies due to the pion mass. The cut-off at high energies is due to the break in the proton spectrum."
   ]
  },
  {
   "cell_type": "markdown",
   "metadata": {},
   "source": [
    "### Exercise\n",
    "We keep the proton spectrum as it is. We want to understand what is happening when we increase or decrease the density. Plot the hadronic emission for the cases of $1\\,\\mathsf{cm}^{-3}$, $10\\,\\mathsf{cm}^{-3}$ and $100\\,\\mathsf{cm}^{-3}$.\n",
    "\n",
    "**[3 marks]**"
   ]
  },
  {
   "cell_type": "code",
   "execution_count": null,
   "metadata": {},
   "outputs": [],
   "source": [
    "densities = [1, 10, 100]/u.cm**3"
   ]
  },
  {
   "cell_type": "code",
   "execution_count": null,
   "metadata": {},
   "outputs": [],
   "source": [
    "# your code here\n",
    "\n",
    "plt.ylim(1e30)\n",
    "plt.xlim(1e-6)"
   ]
  },
  {
   "attachments": {
    "Had_vs_n-2.svg": {
     "image/svg+xml": [
      "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"
     ]
    }
   },
   "cell_type": "markdown",
   "metadata": {},
   "source": [
    "Expected output:\n",
    "![Had_vs_n-2.svg](attachment:Had_vs_n-2.svg)"
   ]
  },
  {
   "cell_type": "markdown",
   "metadata": {},
   "source": [
    "### Exercise\n",
    "We keep the amplitude of the proton spectrum as it is and the density at $1\\,\\mathsf{cm}^{-3}$. We want to understand what is happening when we change the spectral index. Plot the hadronic emission for spectral indices of 2, 2.3 and 2.6.\n",
    "\n",
    "**[3 marks]**"
   ]
  },
  {
   "cell_type": "code",
   "execution_count": null,
   "metadata": {},
   "outputs": [],
   "source": [
    "n = 1/u.cm**3\n",
    "SpecIndx = [2, 2.3, 2.6]"
   ]
  },
  {
   "cell_type": "code",
   "execution_count": null,
   "metadata": {},
   "outputs": [],
   "source": [
    "# your code here\n",
    "\n",
    "plt.ylim(1e30)\n",
    "plt.xlim(1e-6)"
   ]
  },
  {
   "attachments": {
    "Had_vs_Gamma.svg": {
     "image/svg+xml": [
      "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"
     ]
    }
   },
   "cell_type": "markdown",
   "metadata": {},
   "source": [
    "Expected output:\n",
    "![Had_vs_Gamma.svg](attachment:Had_vs_Gamma.svg)"
   ]
  },
  {
   "cell_type": "markdown",
   "metadata": {},
   "source": [
    "## Submission\n",
    "\n",
    "Before you submit your work you should make a few checks that everything works fine.\n",
    "\n",
    "1. Save your notebook as a PDF (File->Download As->PDF). This document will help you debugging in the next step.\n",
    "1. If PDF export does not work: You can do File->Print Preview and then print to a file.\n",
    "1. Restart the kernel and rerun the entire notebook (Kernel->Restart & Run All). This will delete all variables (but not your code) and rerun the notebook in one go. If this does not go through the endthen you have to fix it. You will see at which cell the run stopped. A common mistake is using a variable that is defined only at a later stage.\n",
    "1. You think you fixed everything? Redo step 2 (Kernel->Restart & Run All)\n",
    "\n",
    "You have to download and submit 2 files, the jupyter notebook and a pdf.\n",
    "- Jupyter notebook. File->Download As->Notebook (.ipynb). Save this file on your disk.\n",
    "- PDF file. File->Download As->PDF. Save this file on your disk.\n",
    "- If PDF export does not work. You can do File->Print Preview and then print to a file.\n",
    "\n",
    "Please submit the two files on Ulwazi."
   ]
  }
 ],
 "metadata": {
  "kernelspec": {
   "display_name": "Python 3",
   "language": "python",
   "name": "python3"
  },
  "language_info": {
   "codemirror_mode": {
    "name": "ipython",
    "version": 3
   },
   "file_extension": ".py",
   "mimetype": "text/x-python",
   "name": "python",
   "nbconvert_exporter": "python",
   "pygments_lexer": "ipython3",
   "version": "3.7.0"
  }
 },
 "nbformat": 4,
 "nbformat_minor": 4
}
